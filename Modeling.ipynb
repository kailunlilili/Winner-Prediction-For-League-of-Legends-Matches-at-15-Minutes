{
  "nbformat": 4,
  "nbformat_minor": 0,
  "metadata": {
    "colab": {
      "name": "Machine_Learning.ipynb",
      "provenance": [],
      "collapsed_sections": [],
      "toc_visible": true
    },
    "kernelspec": {
      "name": "python3",
      "display_name": "Python 3"
    },
    "language_info": {
      "name": "python"
    }
  },
  "cells": [
    {
      "cell_type": "code",
      "metadata": {
        "id": "xoJi9VsT87vF"
      },
      "source": [
        "import numpy as np\n",
        "import matplotlib.pyplot as plt\n",
        "import sklearn\n",
        "from sklearn.datasets import make_regression\n",
        "from sklearn.feature_selection import f_regression, mutual_info_regression\n",
        "import pandas as pd\n",
        "import matplotlib.pyplot as plt\n",
        "from sklearn.model_selection import train_test_split\n",
        "from sklearn.feature_selection import SelectKBest\n",
        "from sklearn import preprocessing\n",
        "from sklearn.preprocessing import StandardScaler\n",
        "\n",
        "from sklearn.preprocessing import MinMaxScaler\n",
        "from sklearn.linear_model import LogisticRegression\n",
        "from sklearn.metrics import mean_absolute_error\n",
        "from sklearn.pipeline import Pipeline\n",
        "from sklearn.model_selection import GridSearchCV\n",
        "from sklearn.model_selection import RepeatedKFold\n",
        "from sklearn.ensemble import RandomForestClassifier\n",
        "from sklearn.metrics import classification_report, confusion_matrix, accuracy_score\n",
        "from sklearn.tree import DecisionTreeClassifier\n",
        "from sklearn.ensemble import RandomForestRegressor\n",
        "from sklearn.naive_bayes import GaussianNB\n",
        "import numpy as np\n",
        "import cvxopt\n",
        "from sklearn.datasets.samples_generator import make_blobs\n",
        "from sklearn.model_selection import train_test_split\n",
        "from matplotlib import pyplot as plt\n",
        "from sklearn.svm import LinearSVC\n",
        "from sklearn.metrics import confusion_matrix\n",
        "from sklearn import svm\n",
        "from sklearn import metrics\n",
        "from sklearn.neighbors import KNeighborsClassifier\n",
        "\n",
        "from tensorflow.keras.models import Sequential\n",
        "from tensorflow.keras.layers import Dense\n",
        "from tensorflow.keras.layers import Dropout\n",
        "from tensorflow.keras.layers import LeakyReLU\n",
        "import tensorflow as tf\n",
        "from numpy import loadtxt\n",
        "from keras.optimizers import SGD\n",
        "\n"
      ],
      "execution_count": 29,
      "outputs": []
    },
    {
      "cell_type": "markdown",
      "metadata": {
        "id": "gXA-wBGwPsiZ"
      },
      "source": [
        "## input data"
      ]
    },
    {
      "cell_type": "code",
      "metadata": {
        "colab": {
          "base_uri": "https://localhost:8080/",
          "height": 224
        },
        "id": "dQwfJBAd9ctH",
        "outputId": "724c6f86-158e-4dd0-cd3c-0163874d122b"
      },
      "source": [
        "file_name = \"match_data_at_15 minute.csv\"\n",
        "df = pd.read_csv(file_name)\n",
        "\n",
        "df.head(5)\n"
      ],
      "execution_count": 20,
      "outputs": [
        {
          "output_type": "execute_result",
          "data": {
            "text/html": [
              "<div>\n",
              "<style scoped>\n",
              "    .dataframe tbody tr th:only-of-type {\n",
              "        vertical-align: middle;\n",
              "    }\n",
              "\n",
              "    .dataframe tbody tr th {\n",
              "        vertical-align: top;\n",
              "    }\n",
              "\n",
              "    .dataframe thead th {\n",
              "        text-align: right;\n",
              "    }\n",
              "</style>\n",
              "<table border=\"1\" class=\"dataframe\">\n",
              "  <thead>\n",
              "    <tr style=\"text-align: right;\">\n",
              "      <th></th>\n",
              "      <th>current_gold</th>\n",
              "      <th>total_gold</th>\n",
              "      <th>level</th>\n",
              "      <th>xp</th>\n",
              "      <th>cs</th>\n",
              "      <th>jg</th>\n",
              "      <th>champion_mastery</th>\n",
              "      <th>damage_taken_per_min</th>\n",
              "      <th>champion_mastery_median</th>\n",
              "      <th>champion_mastery_min</th>\n",
              "      <th>ward_placed</th>\n",
              "      <th>elite_monster_killed</th>\n",
              "      <th>building_killed</th>\n",
              "      <th>champion_killed</th>\n",
              "      <th>winner</th>\n",
              "    </tr>\n",
              "  </thead>\n",
              "  <tbody>\n",
              "    <tr>\n",
              "      <th>0</th>\n",
              "      <td>2484.0</td>\n",
              "      <td>-5536.0</td>\n",
              "      <td>-4.0</td>\n",
              "      <td>-4985.0</td>\n",
              "      <td>-60.0</td>\n",
              "      <td>-16.0</td>\n",
              "      <td>0.0</td>\n",
              "      <td>-366.1</td>\n",
              "      <td>0</td>\n",
              "      <td>0</td>\n",
              "      <td>48</td>\n",
              "      <td>-1</td>\n",
              "      <td>-3</td>\n",
              "      <td>-7</td>\n",
              "      <td>1</td>\n",
              "    </tr>\n",
              "    <tr>\n",
              "      <th>1</th>\n",
              "      <td>-458.0</td>\n",
              "      <td>-1388.0</td>\n",
              "      <td>-2.0</td>\n",
              "      <td>-3649.0</td>\n",
              "      <td>-54.0</td>\n",
              "      <td>17.0</td>\n",
              "      <td>0.0</td>\n",
              "      <td>176.9</td>\n",
              "      <td>0</td>\n",
              "      <td>0</td>\n",
              "      <td>-80</td>\n",
              "      <td>0</td>\n",
              "      <td>-1</td>\n",
              "      <td>-5</td>\n",
              "      <td>0</td>\n",
              "    </tr>\n",
              "    <tr>\n",
              "      <th>2</th>\n",
              "      <td>583.0</td>\n",
              "      <td>3663.0</td>\n",
              "      <td>3.0</td>\n",
              "      <td>4584.0</td>\n",
              "      <td>-20.0</td>\n",
              "      <td>46.0</td>\n",
              "      <td>0.0</td>\n",
              "      <td>514.6</td>\n",
              "      <td>0</td>\n",
              "      <td>0</td>\n",
              "      <td>-4</td>\n",
              "      <td>-1</td>\n",
              "      <td>0</td>\n",
              "      <td>7</td>\n",
              "      <td>0</td>\n",
              "    </tr>\n",
              "    <tr>\n",
              "      <th>3</th>\n",
              "      <td>-338.0</td>\n",
              "      <td>-7093.0</td>\n",
              "      <td>-3.0</td>\n",
              "      <td>-3952.0</td>\n",
              "      <td>-72.0</td>\n",
              "      <td>-17.0</td>\n",
              "      <td>0.0</td>\n",
              "      <td>-80.9</td>\n",
              "      <td>0</td>\n",
              "      <td>0</td>\n",
              "      <td>-33</td>\n",
              "      <td>-4</td>\n",
              "      <td>-2</td>\n",
              "      <td>-10</td>\n",
              "      <td>1</td>\n",
              "    </tr>\n",
              "    <tr>\n",
              "      <th>4</th>\n",
              "      <td>-2863.0</td>\n",
              "      <td>-6852.0</td>\n",
              "      <td>-2.0</td>\n",
              "      <td>-4045.0</td>\n",
              "      <td>-92.0</td>\n",
              "      <td>-1.0</td>\n",
              "      <td>0.0</td>\n",
              "      <td>-258.9</td>\n",
              "      <td>0</td>\n",
              "      <td>0</td>\n",
              "      <td>-15</td>\n",
              "      <td>1</td>\n",
              "      <td>-4</td>\n",
              "      <td>-7</td>\n",
              "      <td>1</td>\n",
              "    </tr>\n",
              "  </tbody>\n",
              "</table>\n",
              "</div>"
            ],
            "text/plain": [
              "   current_gold  total_gold  level  ...  building_killed  champion_killed  winner\n",
              "0        2484.0     -5536.0   -4.0  ...               -3               -7       1\n",
              "1        -458.0     -1388.0   -2.0  ...               -1               -5       0\n",
              "2         583.0      3663.0    3.0  ...                0                7       0\n",
              "3        -338.0     -7093.0   -3.0  ...               -2              -10       1\n",
              "4       -2863.0     -6852.0   -2.0  ...               -4               -7       1\n",
              "\n",
              "[5 rows x 15 columns]"
            ]
          },
          "metadata": {
            "tags": []
          },
          "execution_count": 20
        }
      ]
    },
    {
      "cell_type": "markdown",
      "metadata": {
        "id": "Q_IsMY_TOs-L"
      },
      "source": [
        "# Data Preprocessing"
      ]
    },
    {
      "cell_type": "markdown",
      "metadata": {
        "id": "Uls6lBsEQ-qv"
      },
      "source": [
        "### Decide how many features to use"
      ]
    },
    {
      "cell_type": "code",
      "metadata": {
        "colab": {
          "base_uri": "https://localhost:8080/"
        },
        "id": "B9PtmJWpRSL_",
        "outputId": "9b8c56ae-194d-4b57-80d3-df0fb5169167"
      },
      "source": [
        "# split dataset to x and y and standardize x\n",
        "def split_and_standardize_df(df):\n",
        "    X = df.iloc[:,:-1]\n",
        "    y = df['winner']\n",
        "    X = preprocessing.scale(X)\n",
        "    return X, y\n",
        "\n",
        "def split_and_normalize_df(df):\n",
        "    X = df.iloc[:,:-1]\n",
        "    y = df['winner']\n",
        "    scaler = MinMaxScaler(feature_range = (0,1))\n",
        "    scaler.fit(X)\n",
        "    X = scaler.transform(X)\n",
        "    return X, y \n",
        "\n",
        "X, y = split_and_standardize_df(df)\n",
        "# X, y = split_and_normalize_df(df)\n",
        "\n",
        "\n",
        "X.shape"
      ],
      "execution_count": 21,
      "outputs": [
        {
          "output_type": "execute_result",
          "data": {
            "text/plain": [
              "(23664, 14)"
            ]
          },
          "metadata": {
            "tags": []
          },
          "execution_count": 21
        }
      ]
    },
    {
      "cell_type": "code",
      "metadata": {
        "id": "UhanrQqGQb7h"
      },
      "source": [
        "# evaluate how many features to include\n",
        "def feature_count(X, y,model,score_func):\n",
        "    cv = RepeatedKFold(n_splits=10, n_repeats=3, random_state=1)\n",
        "    fs = SelectKBest(score_func=score_func)\n",
        "    pipeline = Pipeline(steps=[('sel',fs), ('lr', model)])\n",
        "\n",
        "    # define the grid\n",
        "    grid = dict()\n",
        "    grid['sel__k'] = [i for i in range(X.shape[1])]\n",
        "    search = GridSearchCV(pipeline, grid, scoring='accuracy', n_jobs=-1, cv=cv)\n",
        "    results = search.fit(X, y)\n",
        "    print('Best Accuracy: %.3f' % results.best_score_)\n",
        "    print('Best Config: %s' % results.best_params_)\n",
        "    means = results.cv_results_['mean_test_score']\n",
        "    params = results.cv_results_['params']\n",
        "    df1 = pd.DataFrame(means,columns=['means'])\n",
        "    df2 = pd.DataFrame(params)\n",
        "    df3 = pd.concat([df1, df2], axis=1)\n",
        "    df3.plot.line(x='sel__k',y='means')\n",
        "    for mean, param in zip(means, params):\n",
        "        print(\">%.3f with: %r\" % (mean, param))\n",
        "    k = list(results.best_params_.values())[0]\n",
        "    return k\n"
      ],
      "execution_count": 22,
      "outputs": []
    },
    {
      "cell_type": "code",
      "metadata": {
        "id": "VFKpWullNYN-"
      },
      "source": [
        "def select_features(X_train, y_train, X_test, score_func, k):\n",
        "    # configure to select all features\n",
        "    fs = SelectKBest(score_func=score_func, k=k)\n",
        "    # learn relationship from training data, fs.fit is used to calculate PCA\n",
        "    fs.fit(X_train, y_train)\n",
        "    # transform train input data, transform applies change of basis\n",
        "    X_train_fs = fs.transform(X_train)\n",
        "    # transform test input data\n",
        "    X_test_fs = fs.transform(X_test)\n",
        "    for i in range(len(fs.scores_)):\n",
        "        print('Feature %d: %f' % (i, fs.scores_[i]))\n",
        "    # plot the scores\n",
        "    plt.bar([i for i in range(len(fs.scores_))], fs.scores_)\n",
        "    plt.show()\n",
        "    return X_train_fs, X_test_fs\n",
        "\n",
        "def select_features_and_split_dataset(X,y,score_func,k):\n",
        "    X_train, X_test, y_train, y_test = train_test_split(X, y, test_size=0.3, random_state=1)\n",
        "    X_train, X_test = select_features(X_train, y_train, X_test, score_func, k)\n",
        "    print('Train', X_train.shape, y_train.shape)\n",
        "    print('Test', X_test.shape, y_test.shape)\n",
        "    return X_train, X_test, y_train, y_test\n"
      ],
      "execution_count": 23,
      "outputs": []
    },
    {
      "cell_type": "markdown",
      "metadata": {
        "id": "_aOoWXAWOogI"
      },
      "source": [
        "# Data Modeling"
      ]
    },
    {
      "cell_type": "code",
      "metadata": {
        "id": "wfTMrAqv64ii"
      },
      "source": [
        "def matrix_model_accuracy(y_test,y_pred):\n",
        "    result = confusion_matrix(y_test, y_pred)\n",
        "    print(\"Confusion Matrix:\")\n",
        "    print(result)\n",
        "    result1 = classification_report(y_test, y_pred)\n",
        "    print(\"Classification Report:\",)\n",
        "    print (result1)\n"
      ],
      "execution_count": 13,
      "outputs": []
    },
    {
      "cell_type": "code",
      "metadata": {
        "id": "F_A4QiWc6QAC"
      },
      "source": [
        "def model_result(model, X_train,y_train,X_test, y_test):\n",
        "    model.fit(X_train,y_train)\n",
        "    y_pred = model.predict(X_test)\n",
        "    print(\"Accuracy:\",metrics.accuracy_score(y_test, y_pred))\n",
        "    matrix_model_accuracy(y_test,y_pred)\n",
        "    print(\"--------- Training Accuracy ----------\")\n",
        "    y_train_pred = model.predict(X_train)\n",
        "    print(\"Training Accuracy:\",metrics.accuracy_score(y_train, y_train_pred))\n",
        "\n",
        "    return model"
      ],
      "execution_count": 14,
      "outputs": []
    },
    {
      "cell_type": "code",
      "metadata": {
        "id": "DGB1qLQyCwz1"
      },
      "source": [
        "# search for best parameters\n",
        "def parameter_search(classifier, X_train, y_train, hyperF):\n",
        "\n",
        "    gridF = GridSearchCV(classifier, hyperF, cv = 3, verbose = 1, n_jobs = -1)\n",
        "    gridF.fit(X_train, y_train)\n",
        "    return gridF.best_params_\n"
      ],
      "execution_count": 15,
      "outputs": []
    },
    {
      "cell_type": "markdown",
      "metadata": {
        "id": "rGIp3R7APXqm"
      },
      "source": [
        "## Logistic Regression"
      ]
    },
    {
      "cell_type": "code",
      "metadata": {
        "colab": {
          "base_uri": "https://localhost:8080/",
          "height": 606
        },
        "id": "2kfNZE6998Ly",
        "outputId": "bcd15af1-3f54-4ecf-d4c5-9e3ffd8d0152"
      },
      "source": [
        "# Logistic Regression feature selection\n",
        "lr_model = LogisticRegression()\n",
        "k = feature_count(X, y, lr_model,f_regression)\n"
      ],
      "execution_count": null,
      "outputs": [
        {
          "output_type": "stream",
          "text": [
            "/usr/local/lib/python3.7/dist-packages/sklearn/feature_selection/_univariate_selection.py:299: RuntimeWarning: invalid value encountered in true_divide\n",
            "  corr /= X_norms\n"
          ],
          "name": "stderr"
        },
        {
          "output_type": "stream",
          "text": [
            "Best Accuracy: 0.778\n",
            "Best Config: {'sel__k': 11}\n",
            ">nan with: {'sel__k': 0}\n",
            ">0.764 with: {'sel__k': 1}\n",
            ">0.770 with: {'sel__k': 2}\n",
            ">0.770 with: {'sel__k': 3}\n",
            ">0.771 with: {'sel__k': 4}\n",
            ">0.776 with: {'sel__k': 5}\n",
            ">0.776 with: {'sel__k': 6}\n",
            ">0.777 with: {'sel__k': 7}\n",
            ">0.777 with: {'sel__k': 8}\n",
            ">0.777 with: {'sel__k': 9}\n",
            ">0.778 with: {'sel__k': 10}\n",
            ">0.778 with: {'sel__k': 11}\n",
            ">0.778 with: {'sel__k': 12}\n",
            ">0.778 with: {'sel__k': 13}\n"
          ],
          "name": "stdout"
        },
        {
          "output_type": "display_data",
          "data": {
            "image/png": "[encoded data removed]",
            "text/plain": [
              "<Figure size 432x288 with 1 Axes>"
            ]
          },
          "metadata": {
            "tags": [],
            "needs_background": "light"
          }
        }
      ]
    },
    {
      "cell_type": "code",
      "metadata": {
        "colab": {
          "base_uri": "https://localhost:8080/",
          "height": 863
        },
        "id": "l3oDBOHRgBPK",
        "outputId": "55a253e5-ba73-42b2-e659-f5124c9515e8"
      },
      "source": [
        "# model before tuning\n",
        "X_train, X_test, y_train, y_test = select_features_and_split_dataset(X, y, f_regression, k)\n",
        "lr_model = model_result(lr_model,X_train,y_train,X_test,y_test)"
      ],
      "execution_count": null,
      "outputs": [
        {
          "output_type": "stream",
          "text": [
            "/usr/local/lib/python3.7/dist-packages/sklearn/feature_selection/_univariate_selection.py:299: RuntimeWarning: invalid value encountered in true_divide\n",
            "  corr /= X_norms\n"
          ],
          "name": "stderr"
        },
        {
          "output_type": "stream",
          "text": [
            "Feature 0: 1439.645841\n",
            "Feature 1: 8526.335253\n",
            "Feature 2: 7071.112807\n",
            "Feature 3: 7957.501588\n",
            "Feature 4: 1705.655730\n",
            "Feature 5: 2875.605370\n",
            "Feature 6: nan\n",
            "Feature 7: 343.908025\n",
            "Feature 8: nan\n",
            "Feature 9: nan\n",
            "Feature 10: 4.809877\n",
            "Feature 11: 3281.843830\n",
            "Feature 12: 3107.604918\n",
            "Feature 13: 6091.303564\n"
          ],
          "name": "stdout"
        },
        {
          "output_type": "display_data",
          "data": {
            "image/png": "[encoded data removed]",
            "text/plain": [
              "<Figure size 432x288 with 1 Axes>"
            ]
          },
          "metadata": {
            "tags": [],
            "needs_background": "light"
          }
        },
        {
          "output_type": "stream",
          "text": [
            "Train (16564, 11) (16564,)\n",
            "Test (7100, 11) (7100,)\n",
            "Accuracy: 0.7845070422535211\n",
            "Confusion Matrix:\n",
            "[[2751  775]\n",
            " [ 755 2819]]\n",
            "Classification Report:\n",
            "              precision    recall  f1-score   support\n",
            "\n",
            "           0       0.78      0.78      0.78      3526\n",
            "           1       0.78      0.79      0.79      3574\n",
            "\n",
            "    accuracy                           0.78      7100\n",
            "   macro avg       0.78      0.78      0.78      7100\n",
            "weighted avg       0.78      0.78      0.78      7100\n",
            "\n",
            "--------- Training Accuracy ----------\n",
            "Training Accuracy: 0.7761410287370201\n"
          ],
          "name": "stdout"
        }
      ]
    },
    {
      "cell_type": "code",
      "metadata": {
        "colab": {
          "base_uri": "https://localhost:8080/"
        },
        "id": "P5CxmSy0DHBp",
        "outputId": "4d4b6fd2-7326-48ac-a571-380df065083d"
      },
      "source": [
        "# hyperparameter tuning\n",
        "lr_params = {'tol': [1e-5, 1e-3, 1e-2],\n",
        "             'C': [0.05, 0.1, 0.5],\n",
        "             'fit_intercept': [True, False],\n",
        "             'penalty': ['l1', 'l2'],\n",
        "             'max_iter': [50, 100]}\n",
        "best_param = parameter_search(lr_model, X_train, y_train, lr_params)\n",
        "best_param"
      ],
      "execution_count": null,
      "outputs": [
        {
          "output_type": "stream",
          "text": [
            "Fitting 3 folds for each of 108 candidates, totalling 324 fits\n"
          ],
          "name": "stdout"
        },
        {
          "output_type": "stream",
          "text": [
            "[Parallel(n_jobs=-1)]: Using backend LokyBackend with 2 concurrent workers.\n",
            "[Parallel(n_jobs=-1)]: Done  88 tasks      | elapsed:    3.3s\n",
            "[Parallel(n_jobs=-1)]: Done 324 out of 324 | elapsed:   11.1s finished\n"
          ],
          "name": "stderr"
        },
        {
          "output_type": "execute_result",
          "data": {
            "text/plain": [
              "{'C': 0.05,\n",
              " 'fit_intercept': True,\n",
              " 'max_iter': 50,\n",
              " 'solver': 'liblinear',\n",
              " 'tol': 0.01}"
            ]
          },
          "metadata": {
            "tags": []
          },
          "execution_count": 11
        }
      ]
    },
    {
      "cell_type": "code",
      "metadata": {
        "colab": {
          "base_uri": "https://localhost:8080/"
        },
        "id": "baApg8bNI4NI",
        "outputId": "65675e22-261d-4249-b67b-3042cdafad86"
      },
      "source": [
        "# model after tuning\n",
        "lr_model_opt = LogisticRegression(C=0.05,penalty='l2',fit_intercept=True,max_iter=50,tol=0.01)\n",
        "lr_model_opt = model_result(lr_model_opt,X_train,y_train,X_test,y_test)"
      ],
      "execution_count": null,
      "outputs": [
        {
          "output_type": "stream",
          "text": [
            "Accuracy: 0.7850704225352113\n",
            "Confusion Matrix:\n",
            "[[2751  775]\n",
            " [ 751 2823]]\n",
            "Classification Report:\n",
            "              precision    recall  f1-score   support\n",
            "\n",
            "           0       0.79      0.78      0.78      3526\n",
            "           1       0.78      0.79      0.79      3574\n",
            "\n",
            "    accuracy                           0.79      7100\n",
            "   macro avg       0.79      0.79      0.79      7100\n",
            "weighted avg       0.79      0.79      0.79      7100\n",
            "\n",
            "--------- Training Accuracy ----------\n",
            "Training Accuracy: 0.7762617725187153\n"
          ],
          "name": "stdout"
        }
      ]
    },
    {
      "cell_type": "markdown",
      "metadata": {
        "id": "4yZmBVQnPawG"
      },
      "source": [
        "## Random Forest Classifier"
      ]
    },
    {
      "cell_type": "code",
      "metadata": {
        "colab": {
          "base_uri": "https://localhost:8080/",
          "height": 640
        },
        "id": "-mbOkuNU-6s6",
        "outputId": "aac652ea-64c4-427e-9263-d49be9becb9e"
      },
      "source": [
        "# random forest feature selection \n",
        "rf_model = RandomForestClassifier()\n",
        "k = feature_count(X, y, rf_model,f_regression)\n"
      ],
      "execution_count": null,
      "outputs": [
        {
          "output_type": "stream",
          "text": [
            "/usr/local/lib/python3.7/dist-packages/joblib/externals/loky/process_executor.py:691: UserWarning: A worker stopped while some jobs were given to the executor. This can be caused by a too short worker timeout or by a memory leak.\n",
            "  \"timeout or by a memory leak.\", UserWarning\n",
            "/usr/local/lib/python3.7/dist-packages/sklearn/feature_selection/_univariate_selection.py:299: RuntimeWarning: invalid value encountered in true_divide\n",
            "  corr /= X_norms\n"
          ],
          "name": "stderr"
        },
        {
          "output_type": "stream",
          "text": [
            "Best Accuracy: 0.775\n",
            "Best Config: {'sel__k': 12}\n",
            ">nan with: {'sel__k': 0}\n",
            ">0.700 with: {'sel__k': 1}\n",
            ">0.745 with: {'sel__k': 2}\n",
            ">0.745 with: {'sel__k': 3}\n",
            ">0.753 with: {'sel__k': 4}\n",
            ">0.764 with: {'sel__k': 5}\n",
            ">0.765 with: {'sel__k': 6}\n",
            ">0.769 with: {'sel__k': 7}\n",
            ">0.771 with: {'sel__k': 8}\n",
            ">0.770 with: {'sel__k': 9}\n",
            ">0.774 with: {'sel__k': 10}\n",
            ">0.775 with: {'sel__k': 11}\n",
            ">0.775 with: {'sel__k': 12}\n",
            ">0.774 with: {'sel__k': 13}\n"
          ],
          "name": "stdout"
        },
        {
          "output_type": "display_data",
          "data": {
            "image/png": "[encoded data removed]",
            "text/plain": [
              "<Figure size 432x288 with 1 Axes>"
            ]
          },
          "metadata": {
            "tags": [],
            "needs_background": "light"
          }
        }
      ]
    },
    {
      "cell_type": "code",
      "metadata": {
        "colab": {
          "base_uri": "https://localhost:8080/",
          "height": 863
        },
        "id": "46F99vyzOJKK",
        "outputId": "8d8cafe1-566d-4c05-f5cf-dc1338e77f7c"
      },
      "source": [
        "# model before tuning\n",
        "X_train, X_test, y_train, y_test = select_features_and_split_dataset(X, y, f_regression, k)\n",
        "rf_model = model_result(rf_model,X_train,y_train,X_test,y_test)"
      ],
      "execution_count": null,
      "outputs": [
        {
          "output_type": "stream",
          "text": [
            "/usr/local/lib/python3.7/dist-packages/sklearn/feature_selection/_univariate_selection.py:299: RuntimeWarning: invalid value encountered in true_divide\n",
            "  corr /= X_norms\n"
          ],
          "name": "stderr"
        },
        {
          "output_type": "stream",
          "text": [
            "Feature 0: 1439.645841\n",
            "Feature 1: 8526.335253\n",
            "Feature 2: 7071.112807\n",
            "Feature 3: 7957.501588\n",
            "Feature 4: 1705.655730\n",
            "Feature 5: 2875.605370\n",
            "Feature 6: nan\n",
            "Feature 7: 343.908025\n",
            "Feature 8: nan\n",
            "Feature 9: nan\n",
            "Feature 10: 4.809877\n",
            "Feature 11: 3281.843830\n",
            "Feature 12: 3107.604918\n",
            "Feature 13: 6091.303564\n"
          ],
          "name": "stdout"
        },
        {
          "output_type": "display_data",
          "data": {
            "image/png": "[encoded data removed]",
            "text/plain": [
              "<Figure size 432x288 with 1 Axes>"
            ]
          },
          "metadata": {
            "tags": [],
            "needs_background": "light"
          }
        },
        {
          "output_type": "stream",
          "text": [
            "Train (16564, 12) (16564,)\n",
            "Test (7100, 12) (7100,)\n",
            "Accuracy: 0.7809859154929577\n",
            "Confusion Matrix:\n",
            "[[2718  808]\n",
            " [ 747 2827]]\n",
            "Classification Report:\n",
            "              precision    recall  f1-score   support\n",
            "\n",
            "           0       0.78      0.77      0.78      3526\n",
            "           1       0.78      0.79      0.78      3574\n",
            "\n",
            "    accuracy                           0.78      7100\n",
            "   macro avg       0.78      0.78      0.78      7100\n",
            "weighted avg       0.78      0.78      0.78      7100\n",
            "\n",
            "--------- Training Accuracy ----------\n",
            "Training Accuracy: 1.0\n"
          ],
          "name": "stdout"
        }
      ]
    },
    {
      "cell_type": "code",
      "metadata": {
        "colab": {
          "base_uri": "https://localhost:8080/"
        },
        "id": "uoZH7VmY3NGI",
        "outputId": "979ff8a9-7081-4d33-eaa4-99c949e53b52"
      },
      "source": [
        "# hyperparameter tuning\n",
        "n_estimators = [100, 300, 500]\n",
        "max_depth = [3, 5, 8]\n",
        "min_samples_split = [1, 2, 5]\n",
        "min_samples_leaf = [5, 10]\n",
        "hyperF = dict(n_estimators = n_estimators, max_depth = max_depth,  \n",
        "              min_samples_split = min_samples_split, \n",
        "            min_samples_leaf = min_samples_leaf)\n",
        "\n",
        "best_param = parameter_search(rf_model, X_train, y_train, hyperF)\n",
        "best_param"
      ],
      "execution_count": null,
      "outputs": [
        {
          "output_type": "stream",
          "text": [
            "Fitting 3 folds for each of 54 candidates, totalling 162 fits\n"
          ],
          "name": "stdout"
        },
        {
          "output_type": "stream",
          "text": [
            "[Parallel(n_jobs=-1)]: Using backend LokyBackend with 2 concurrent workers.\n",
            "[Parallel(n_jobs=-1)]: Done  46 tasks      | elapsed:   51.8s\n",
            "[Parallel(n_jobs=-1)]: Done 162 out of 162 | elapsed:  4.6min finished\n"
          ],
          "name": "stderr"
        },
        {
          "output_type": "execute_result",
          "data": {
            "text/plain": [
              "{'max_depth': 5,\n",
              " 'min_samples_leaf': 10,\n",
              " 'min_samples_split': 5,\n",
              " 'n_estimators': 300}"
            ]
          },
          "metadata": {
            "tags": []
          },
          "execution_count": 29
        }
      ]
    },
    {
      "cell_type": "code",
      "metadata": {
        "colab": {
          "base_uri": "https://localhost:8080/"
        },
        "id": "-VXp-zweIqZY",
        "outputId": "846262fd-2440-4486-dbc5-86b4a3c39c93"
      },
      "source": [
        "# model after tuning\n",
        "rf_model_opt = RandomForestClassifier(max_depth=5,min_samples_leaf=10,min_samples_split=5,n_estimators=300)\n",
        "rf_model_opt = model_result(rf_model_opt,X_train,y_train,X_test,y_test)"
      ],
      "execution_count": null,
      "outputs": [
        {
          "output_type": "stream",
          "text": [
            "Accuracy: 0.7791549295774648\n",
            "Confusion Matrix:\n",
            "[[2674  852]\n",
            " [ 716 2858]]\n",
            "Classification Report:\n",
            "              precision    recall  f1-score   support\n",
            "\n",
            "           0       0.79      0.76      0.77      3526\n",
            "           1       0.77      0.80      0.78      3574\n",
            "\n",
            "    accuracy                           0.78      7100\n",
            "   macro avg       0.78      0.78      0.78      7100\n",
            "weighted avg       0.78      0.78      0.78      7100\n",
            "\n",
            "--------- Training Accuracy ----------\n",
            "Training Accuracy: 0.7774088384448201\n"
          ],
          "name": "stdout"
        }
      ]
    },
    {
      "cell_type": "markdown",
      "metadata": {
        "id": "oB_fVxDawCBv"
      },
      "source": [
        "## SVM \n"
      ]
    },
    {
      "cell_type": "code",
      "metadata": {
        "colab": {
          "base_uri": "https://localhost:8080/",
          "height": 606
        },
        "id": "vPO0ZLSfKJ3_",
        "outputId": "2bc4a8dd-cfaa-49a5-c3b6-0e47f22736f9"
      },
      "source": [
        "svm_model = svm.SVC()\n",
        "k = feature_count(X, y, svm_model,f_regression)"
      ],
      "execution_count": 16,
      "outputs": [
        {
          "output_type": "stream",
          "text": [
            "/usr/local/lib/python3.7/dist-packages/sklearn/feature_selection/_univariate_selection.py:299: RuntimeWarning: invalid value encountered in true_divide\n",
            "  corr /= X_norms\n"
          ],
          "name": "stderr"
        },
        {
          "output_type": "stream",
          "text": [
            "Best Accuracy: 0.757\n",
            "Best Config: {'sel__k': 11}\n",
            ">nan with: {'sel__k': 0}\n",
            ">0.741 with: {'sel__k': 1}\n",
            ">0.753 with: {'sel__k': 2}\n",
            ">0.755 with: {'sel__k': 3}\n",
            ">0.755 with: {'sel__k': 4}\n",
            ">0.753 with: {'sel__k': 5}\n",
            ">0.756 with: {'sel__k': 6}\n",
            ">0.753 with: {'sel__k': 7}\n",
            ">0.752 with: {'sel__k': 8}\n",
            ">0.751 with: {'sel__k': 9}\n",
            ">0.756 with: {'sel__k': 10}\n",
            ">0.757 with: {'sel__k': 11}\n",
            ">0.757 with: {'sel__k': 12}\n",
            ">0.757 with: {'sel__k': 13}\n"
          ],
          "name": "stdout"
        },
        {
          "output_type": "display_data",
          "data": {
            "image/png": "[encoded data removed]",
            "text/plain": [
              "<Figure size 432x288 with 1 Axes>"
            ]
          },
          "metadata": {
            "tags": [],
            "needs_background": "light"
          }
        }
      ]
    },
    {
      "cell_type": "code",
      "metadata": {
        "colab": {
          "base_uri": "https://localhost:8080/",
          "height": 863
        },
        "id": "CcD_RPx4Yrf-",
        "outputId": "39d999bb-65b8-4e1a-c92b-ddb7d1adc097"
      },
      "source": [
        "X_train, X_test, y_train, y_test = select_features_and_split_dataset(X, y, f_regression, k)\n",
        "svm_model = model_result(svm_model,X_train,y_train,X_test,y_test)"
      ],
      "execution_count": 24,
      "outputs": [
        {
          "output_type": "stream",
          "text": [
            "/usr/local/lib/python3.7/dist-packages/sklearn/feature_selection/_univariate_selection.py:299: RuntimeWarning: invalid value encountered in true_divide\n",
            "  corr /= X_norms\n"
          ],
          "name": "stderr"
        },
        {
          "output_type": "stream",
          "text": [
            "Feature 0: 1439.645841\n",
            "Feature 1: 8526.335253\n",
            "Feature 2: 7071.112807\n",
            "Feature 3: 7957.501588\n",
            "Feature 4: 1705.655730\n",
            "Feature 5: 2875.605370\n",
            "Feature 6: nan\n",
            "Feature 7: 343.908025\n",
            "Feature 8: nan\n",
            "Feature 9: nan\n",
            "Feature 10: 4.809877\n",
            "Feature 11: 3281.843830\n",
            "Feature 12: 3107.604918\n",
            "Feature 13: 6091.303564\n"
          ],
          "name": "stdout"
        },
        {
          "output_type": "display_data",
          "data": {
            "image/png": "[encoded data removed]",
            "text/plain": [
              "<Figure size 432x288 with 1 Axes>"
            ]
          },
          "metadata": {
            "tags": [],
            "needs_background": "light"
          }
        },
        {
          "output_type": "stream",
          "text": [
            "Train (16564, 11) (16564,)\n",
            "Test (7100, 11) (7100,)\n",
            "Accuracy: 0.7853521126760563\n",
            "Confusion Matrix:\n",
            "[[2727  799]\n",
            " [ 725 2849]]\n",
            "Classification Report:\n",
            "              precision    recall  f1-score   support\n",
            "\n",
            "           0       0.79      0.77      0.78      3526\n",
            "           1       0.78      0.80      0.79      3574\n",
            "\n",
            "    accuracy                           0.79      7100\n",
            "   macro avg       0.79      0.79      0.79      7100\n",
            "weighted avg       0.79      0.79      0.79      7100\n",
            "\n",
            "--------- Training Accuracy ----------\n",
            "Training Accuracy: 0.7808500362231345\n"
          ],
          "name": "stdout"
        }
      ]
    },
    {
      "cell_type": "code",
      "metadata": {
        "colab": {
          "base_uri": "https://localhost:8080/"
        },
        "id": "Q7vllLsd1APS",
        "outputId": "7f68a473-d3ef-4da2-aabd-19db62bc150b"
      },
      "source": [
        "param_grid = {'C': [0.001,0.1, 1, 5],\n",
        "              'gamma': [0.001, 0.005, 0.01, 0.1],\n",
        "              'kernel': ['linear', 'poly', 'rbf']}\n",
        "\n",
        "best_param = parameter_search(svm_model, X_train, y_train, param_grid)\n",
        "best_param"
      ],
      "execution_count": 27,
      "outputs": [
        {
          "output_type": "stream",
          "text": [
            "Fitting 3 folds for each of 48 candidates, totalling 144 fits\n"
          ],
          "name": "stdout"
        },
        {
          "output_type": "stream",
          "text": [
            "[Parallel(n_jobs=-1)]: Using backend LokyBackend with 2 concurrent workers.\n",
            "[Parallel(n_jobs=-1)]: Done  46 tasks      | elapsed:  3.1min\n",
            "[Parallel(n_jobs=-1)]: Done 144 out of 144 | elapsed: 10.4min finished\n"
          ],
          "name": "stderr"
        },
        {
          "output_type": "execute_result",
          "data": {
            "text/plain": [
              "{'C': 0.1, 'gamma': 0.001, 'kernel': 'linear'}"
            ]
          },
          "metadata": {
            "tags": []
          },
          "execution_count": 27
        }
      ]
    },
    {
      "cell_type": "code",
      "metadata": {
        "id": "hZJ35_WBDqdM",
        "colab": {
          "base_uri": "https://localhost:8080/"
        },
        "outputId": "c9e528b9-66c3-4809-864f-9f12a2995139"
      },
      "source": [
        "svm_model_opt = svm.SVC(C=0.1,gamma=0.001,kernel='linear')\n",
        "svm_model_opt = model_result(svm_model_opt,X_train,y_train,X_test,y_test)\n"
      ],
      "execution_count": 28,
      "outputs": [
        {
          "output_type": "stream",
          "text": [
            "Accuracy: 0.7846478873239436\n",
            "Confusion Matrix:\n",
            "[[2750  776]\n",
            " [ 753 2821]]\n",
            "Classification Report:\n",
            "              precision    recall  f1-score   support\n",
            "\n",
            "           0       0.79      0.78      0.78      3526\n",
            "           1       0.78      0.79      0.79      3574\n",
            "\n",
            "    accuracy                           0.78      7100\n",
            "   macro avg       0.78      0.78      0.78      7100\n",
            "weighted avg       0.78      0.78      0.78      7100\n",
            "\n",
            "--------- Training Accuracy ----------\n",
            "Training Accuracy: 0.7756580536102391\n"
          ],
          "name": "stdout"
        }
      ]
    },
    {
      "cell_type": "markdown",
      "metadata": {
        "id": "g9sTd7nM5rbm"
      },
      "source": [
        "## KNN"
      ]
    },
    {
      "cell_type": "code",
      "metadata": {
        "colab": {
          "base_uri": "https://localhost:8080/",
          "height": 912
        },
        "id": "WrQELF1s5sWh",
        "outputId": "60be4c6d-ab9b-4ed9-d82f-c33a4f6f992f"
      },
      "source": [
        "knn_model = KNeighborsClassifier()\n",
        "k = feature_count(X, y, knn_model,f_regression)\n",
        "X_train, X_test, y_train, y_test = select_features_and_split_dataset(X, y, f_regression, k)\n"
      ],
      "execution_count": null,
      "outputs": [
        {
          "output_type": "stream",
          "text": [
            "/usr/local/lib/python3.7/dist-packages/sklearn/feature_selection/_univariate_selection.py:299: RuntimeWarning: invalid value encountered in true_divide\n",
            "  corr /= X_norms\n",
            "/usr/local/lib/python3.7/dist-packages/sklearn/feature_selection/_univariate_selection.py:299: RuntimeWarning: invalid value encountered in true_divide\n",
            "  corr /= X_norms\n"
          ],
          "name": "stderr"
        },
        {
          "output_type": "stream",
          "text": [
            "Best Accuracy: 0.748\n",
            "Best Config: {'sel__k': 5}\n",
            ">nan with: {'sel__k': 0}\n",
            ">0.733 with: {'sel__k': 1}\n",
            ">0.739 with: {'sel__k': 2}\n",
            ">0.737 with: {'sel__k': 3}\n",
            ">0.739 with: {'sel__k': 4}\n",
            ">0.748 with: {'sel__k': 5}\n",
            ">0.745 with: {'sel__k': 6}\n",
            ">0.744 with: {'sel__k': 7}\n",
            ">0.742 with: {'sel__k': 8}\n",
            ">0.743 with: {'sel__k': 9}\n",
            ">0.742 with: {'sel__k': 10}\n",
            ">0.745 with: {'sel__k': 11}\n",
            ">0.745 with: {'sel__k': 12}\n",
            ">0.745 with: {'sel__k': 13}\n",
            "Feature 0: 2055.097230\n",
            "Feature 1: 12372.585728\n",
            "Feature 2: 10288.120276\n",
            "Feature 3: 11449.028178\n",
            "Feature 4: 2325.613998\n",
            "Feature 5: 4040.183340\n",
            "Feature 6: nan\n",
            "Feature 7: 514.853614\n",
            "Feature 8: nan\n",
            "Feature 9: nan\n",
            "Feature 10: 7.339054\n",
            "Feature 11: 4881.489999\n",
            "Feature 12: 4504.127537\n",
            "Feature 13: 8969.336229\n"
          ],
          "name": "stdout"
        },
        {
          "output_type": "display_data",
          "data": {
            "image/png": "[encoded data removed]",
            "text/plain": [
              "<Figure size 432x288 with 1 Axes>"
            ]
          },
          "metadata": {
            "tags": [],
            "needs_background": "light"
          }
        },
        {
          "output_type": "stream",
          "text": [
            "Train (23427, 5) (23427,)\n",
            "Test (237, 5) (237,)\n"
          ],
          "name": "stdout"
        }
      ]
    },
    {
      "cell_type": "code",
      "metadata": {
        "id": "mB-0vJtYz763",
        "colab": {
          "base_uri": "https://localhost:8080/"
        },
        "outputId": "ad7632b5-d457-4da0-d840-d3154994477b"
      },
      "source": [
        "leaf_size = [1,5]\n",
        "n_neighbors = [5,10,30,40,50]\n",
        "p=[1,2]\n",
        "\n",
        "knn_model = KNeighborsClassifier()\n",
        "hyperparameters = dict(leaf_size=leaf_size, n_neighbors=n_neighbors, p=p)\n",
        "best_param = parameter_search(knn_model, X, y, hyperparameters)\n",
        "best_param"
      ],
      "execution_count": null,
      "outputs": [
        {
          "output_type": "stream",
          "text": [
            "Fitting 3 folds for each of 20 candidates, totalling 60 fits\n"
          ],
          "name": "stdout"
        },
        {
          "output_type": "stream",
          "text": [
            "[Parallel(n_jobs=-1)]: Using backend LokyBackend with 2 concurrent workers.\n",
            "[Parallel(n_jobs=-1)]: Done  46 tasks      | elapsed:  5.1min\n",
            "[Parallel(n_jobs=-1)]: Done  60 out of  60 | elapsed:  6.3min finished\n"
          ],
          "name": "stderr"
        },
        {
          "output_type": "execute_result",
          "data": {
            "text/plain": [
              "{'leaf_size': 1, 'n_neighbors': 50, 'p': 2}"
            ]
          },
          "metadata": {
            "tags": []
          },
          "execution_count": 11
        }
      ]
    },
    {
      "cell_type": "code",
      "metadata": {
        "colab": {
          "base_uri": "https://localhost:8080/"
        },
        "id": "ppr0PSsLHOFn",
        "outputId": "054b63d1-8bae-4bd5-b03d-11de8998aa1f"
      },
      "source": [
        "knn_model_opt = KNeighborsClassifier(leaf_size = 1, n_neighbors = 50, p = 2)\n",
        "knn_model = model_result(knn_model_opt,X_train,y_train,X_test,y_test)"
      ],
      "execution_count": null,
      "outputs": [
        {
          "output_type": "stream",
          "text": [
            "Accuracy: 0.7890295358649789\n",
            "Confusion Matrix:\n",
            "[[100  31]\n",
            " [ 19  87]]\n",
            "Classification Report:\n",
            "              precision    recall  f1-score   support\n",
            "\n",
            "           0       0.84      0.76      0.80       131\n",
            "           1       0.74      0.82      0.78       106\n",
            "\n",
            "    accuracy                           0.79       237\n",
            "   macro avg       0.79      0.79      0.79       237\n",
            "weighted avg       0.79      0.79      0.79       237\n",
            "\n",
            "--------- Training Accuracy ----------\n",
            "Training Accuracy: 0.7794425235838989\n"
          ],
          "name": "stdout"
        }
      ]
    },
    {
      "cell_type": "markdown",
      "metadata": {
        "id": "NCZhwO6B84Y-"
      },
      "source": [
        "## Neural Network"
      ]
    },
    {
      "cell_type": "code",
      "metadata": {
        "colab": {
          "base_uri": "https://localhost:8080/"
        },
        "id": "PXnpWc2p86Xp",
        "outputId": "23ee920e-9af8-45f6-9a3d-87da1b86d145"
      },
      "source": [
        "\n",
        "classifier = Sequential()\n",
        "classifier.add(Dense(200,input_dim=11))\n",
        "classifier.add(Dense(100, activation='relu'))\n",
        "classifier.add(Dense(50, activation='relu'))\n",
        "classifier.add(Dense(1, activation='sigmoid'))\n",
        "\n",
        "opt = SGD(lr=0.01)\n",
        "classifier.compile(loss='binary_crossentropy', optimizer=opt, metrics=['accuracy'])\n",
        "classifier.fit(X_train, y_train, epochs=150, batch_size=32)\n",
        "\n",
        "y_pred = classifier.predict(X_test)\n",
        "\n",
        "_, accuracy = classifier.evaluate(X_test, y_test)\n",
        "print('Accuracy: %.2f' % (accuracy*100))\n"
      ],
      "execution_count": null,
      "outputs": [
        {
          "output_type": "stream",
          "text": [
            "Epoch 1/150\n",
            "40/40 [==============================] - 0s 1ms/step - loss: 0.6582 - accuracy: 0.5942\n",
            "Epoch 2/150\n",
            "40/40 [==============================] - 0s 2ms/step - loss: 0.5613 - accuracy: 0.7704\n",
            "Epoch 3/150\n",
            "40/40 [==============================] - 0s 1ms/step - loss: 0.5289 - accuracy: 0.7703\n",
            "Epoch 4/150\n",
            "40/40 [==============================] - 0s 2ms/step - loss: 0.4933 - accuracy: 0.7926\n",
            "Epoch 5/150\n",
            "40/40 [==============================] - 0s 2ms/step - loss: 0.4947 - accuracy: 0.7626\n",
            "Epoch 6/150\n",
            "40/40 [==============================] - 0s 2ms/step - loss: 0.4821 - accuracy: 0.7870\n",
            "Epoch 7/150\n",
            "40/40 [==============================] - 0s 2ms/step - loss: 0.4750 - accuracy: 0.7846\n",
            "Epoch 8/150\n",
            "40/40 [==============================] - 0s 1ms/step - loss: 0.4716 - accuracy: 0.7614\n",
            "Epoch 9/150\n",
            "40/40 [==============================] - 0s 2ms/step - loss: 0.4707 - accuracy: 0.7890\n",
            "Epoch 10/150\n",
            "40/40 [==============================] - 0s 2ms/step - loss: 0.4776 - accuracy: 0.7745\n",
            "Epoch 11/150\n",
            "40/40 [==============================] - 0s 1ms/step - loss: 0.4788 - accuracy: 0.7664\n",
            "Epoch 12/150\n",
            "40/40 [==============================] - 0s 1ms/step - loss: 0.4844 - accuracy: 0.7696\n",
            "Epoch 13/150\n",
            "40/40 [==============================] - 0s 2ms/step - loss: 0.4825 - accuracy: 0.7778\n",
            "Epoch 14/150\n",
            "40/40 [==============================] - 0s 2ms/step - loss: 0.4689 - accuracy: 0.7914\n",
            "Epoch 15/150\n",
            "40/40 [==============================] - 0s 2ms/step - loss: 0.4768 - accuracy: 0.7841\n",
            "Epoch 16/150\n",
            "40/40 [==============================] - 0s 1ms/step - loss: 0.4807 - accuracy: 0.7851\n",
            "Epoch 17/150\n",
            "40/40 [==============================] - 0s 2ms/step - loss: 0.4788 - accuracy: 0.7597\n",
            "Epoch 18/150\n",
            "40/40 [==============================] - 0s 2ms/step - loss: 0.4519 - accuracy: 0.7936\n",
            "Epoch 19/150\n",
            "40/40 [==============================] - 0s 1ms/step - loss: 0.4700 - accuracy: 0.7711\n",
            "Epoch 20/150\n",
            "40/40 [==============================] - 0s 1ms/step - loss: 0.4792 - accuracy: 0.7767\n",
            "Epoch 21/150\n",
            "40/40 [==============================] - 0s 1ms/step - loss: 0.4373 - accuracy: 0.7984\n",
            "Epoch 22/150\n",
            "40/40 [==============================] - 0s 1ms/step - loss: 0.4653 - accuracy: 0.7755\n",
            "Epoch 23/150\n",
            "40/40 [==============================] - 0s 1ms/step - loss: 0.4589 - accuracy: 0.7825\n",
            "Epoch 24/150\n",
            "40/40 [==============================] - 0s 2ms/step - loss: 0.4543 - accuracy: 0.7847\n",
            "Epoch 25/150\n",
            "40/40 [==============================] - 0s 2ms/step - loss: 0.4617 - accuracy: 0.7831\n",
            "Epoch 26/150\n",
            "40/40 [==============================] - 0s 2ms/step - loss: 0.4488 - accuracy: 0.7922\n",
            "Epoch 27/150\n",
            "40/40 [==============================] - 0s 2ms/step - loss: 0.4602 - accuracy: 0.7880\n",
            "Epoch 28/150\n",
            "40/40 [==============================] - 0s 2ms/step - loss: 0.4315 - accuracy: 0.7962\n",
            "Epoch 29/150\n",
            "40/40 [==============================] - 0s 2ms/step - loss: 0.4605 - accuracy: 0.7897\n",
            "Epoch 30/150\n",
            "40/40 [==============================] - 0s 1ms/step - loss: 0.4514 - accuracy: 0.7898\n",
            "Epoch 31/150\n",
            "40/40 [==============================] - 0s 2ms/step - loss: 0.4592 - accuracy: 0.7762\n",
            "Epoch 32/150\n",
            "40/40 [==============================] - 0s 2ms/step - loss: 0.4651 - accuracy: 0.7748\n",
            "Epoch 33/150\n",
            "40/40 [==============================] - 0s 2ms/step - loss: 0.4720 - accuracy: 0.7834\n",
            "Epoch 34/150\n",
            "40/40 [==============================] - 0s 2ms/step - loss: 0.4668 - accuracy: 0.7853\n",
            "Epoch 35/150\n",
            "40/40 [==============================] - 0s 2ms/step - loss: 0.4400 - accuracy: 0.7941\n",
            "Epoch 36/150\n",
            "40/40 [==============================] - 0s 2ms/step - loss: 0.4507 - accuracy: 0.7701\n",
            "Epoch 37/150\n",
            "40/40 [==============================] - 0s 1ms/step - loss: 0.4699 - accuracy: 0.7685\n",
            "Epoch 38/150\n",
            "40/40 [==============================] - 0s 2ms/step - loss: 0.4529 - accuracy: 0.7822\n",
            "Epoch 39/150\n",
            "40/40 [==============================] - 0s 1ms/step - loss: 0.4573 - accuracy: 0.7880\n",
            "Epoch 40/150\n",
            "40/40 [==============================] - 0s 2ms/step - loss: 0.4818 - accuracy: 0.7636\n",
            "Epoch 41/150\n",
            "40/40 [==============================] - 0s 2ms/step - loss: 0.4487 - accuracy: 0.7911\n",
            "Epoch 42/150\n",
            "40/40 [==============================] - 0s 2ms/step - loss: 0.4422 - accuracy: 0.7838\n",
            "Epoch 43/150\n",
            "40/40 [==============================] - 0s 2ms/step - loss: 0.4403 - accuracy: 0.8011\n",
            "Epoch 44/150\n",
            "40/40 [==============================] - 0s 2ms/step - loss: 0.4265 - accuracy: 0.7962\n",
            "Epoch 45/150\n",
            "40/40 [==============================] - 0s 1ms/step - loss: 0.4351 - accuracy: 0.8063\n",
            "Epoch 46/150\n",
            "40/40 [==============================] - 0s 1ms/step - loss: 0.4621 - accuracy: 0.7920\n",
            "Epoch 47/150\n",
            "40/40 [==============================] - 0s 2ms/step - loss: 0.4619 - accuracy: 0.7796\n",
            "Epoch 48/150\n",
            "40/40 [==============================] - 0s 2ms/step - loss: 0.4388 - accuracy: 0.7920\n",
            "Epoch 49/150\n",
            "40/40 [==============================] - 0s 2ms/step - loss: 0.4471 - accuracy: 0.7947\n",
            "Epoch 50/150\n",
            "40/40 [==============================] - 0s 2ms/step - loss: 0.4681 - accuracy: 0.7884\n",
            "Epoch 51/150\n",
            "40/40 [==============================] - 0s 2ms/step - loss: 0.4656 - accuracy: 0.7703\n",
            "Epoch 52/150\n",
            "40/40 [==============================] - 0s 1ms/step - loss: 0.4368 - accuracy: 0.8045\n",
            "Epoch 53/150\n",
            "40/40 [==============================] - 0s 1ms/step - loss: 0.4653 - accuracy: 0.7780\n",
            "Epoch 54/150\n",
            "40/40 [==============================] - 0s 2ms/step - loss: 0.4449 - accuracy: 0.7949\n",
            "Epoch 55/150\n",
            "40/40 [==============================] - 0s 1ms/step - loss: 0.4505 - accuracy: 0.7815\n",
            "Epoch 56/150\n",
            "40/40 [==============================] - 0s 2ms/step - loss: 0.4506 - accuracy: 0.7903\n",
            "Epoch 57/150\n",
            "40/40 [==============================] - 0s 2ms/step - loss: 0.4676 - accuracy: 0.7762\n",
            "Epoch 58/150\n",
            "40/40 [==============================] - 0s 2ms/step - loss: 0.4454 - accuracy: 0.7957\n",
            "Epoch 59/150\n",
            "40/40 [==============================] - 0s 2ms/step - loss: 0.4883 - accuracy: 0.7556\n",
            "Epoch 60/150\n",
            "40/40 [==============================] - 0s 2ms/step - loss: 0.4532 - accuracy: 0.7833\n",
            "Epoch 61/150\n",
            "40/40 [==============================] - 0s 2ms/step - loss: 0.4417 - accuracy: 0.7853\n",
            "Epoch 62/150\n",
            "40/40 [==============================] - 0s 2ms/step - loss: 0.4595 - accuracy: 0.7840\n",
            "Epoch 63/150\n",
            "40/40 [==============================] - 0s 2ms/step - loss: 0.4599 - accuracy: 0.7921\n",
            "Epoch 64/150\n",
            "40/40 [==============================] - 0s 1ms/step - loss: 0.4556 - accuracy: 0.7787\n",
            "Epoch 65/150\n",
            "40/40 [==============================] - 0s 1ms/step - loss: 0.4639 - accuracy: 0.7879\n",
            "Epoch 66/150\n",
            "40/40 [==============================] - 0s 2ms/step - loss: 0.4693 - accuracy: 0.7723\n",
            "Epoch 67/150\n",
            "40/40 [==============================] - 0s 2ms/step - loss: 0.4419 - accuracy: 0.8049\n",
            "Epoch 68/150\n",
            "40/40 [==============================] - 0s 2ms/step - loss: 0.4703 - accuracy: 0.7774\n",
            "Epoch 69/150\n",
            "40/40 [==============================] - 0s 2ms/step - loss: 0.4322 - accuracy: 0.8053\n",
            "Epoch 70/150\n",
            "40/40 [==============================] - 0s 2ms/step - loss: 0.4164 - accuracy: 0.8085\n",
            "Epoch 71/150\n",
            "40/40 [==============================] - 0s 2ms/step - loss: 0.4523 - accuracy: 0.7749\n",
            "Epoch 72/150\n",
            "40/40 [==============================] - 0s 2ms/step - loss: 0.4701 - accuracy: 0.7824\n",
            "Epoch 73/150\n",
            "40/40 [==============================] - 0s 2ms/step - loss: 0.4337 - accuracy: 0.8033\n",
            "Epoch 74/150\n",
            "40/40 [==============================] - 0s 2ms/step - loss: 0.4334 - accuracy: 0.8049\n",
            "Epoch 75/150\n",
            "40/40 [==============================] - 0s 1ms/step - loss: 0.4413 - accuracy: 0.7944\n",
            "Epoch 76/150\n",
            "40/40 [==============================] - 0s 2ms/step - loss: 0.4638 - accuracy: 0.7773\n",
            "Epoch 77/150\n",
            "40/40 [==============================] - 0s 1ms/step - loss: 0.4496 - accuracy: 0.8035\n",
            "Epoch 78/150\n",
            "40/40 [==============================] - 0s 1ms/step - loss: 0.4422 - accuracy: 0.8027\n",
            "Epoch 79/150\n",
            "40/40 [==============================] - 0s 2ms/step - loss: 0.4183 - accuracy: 0.8108\n",
            "Epoch 80/150\n",
            "40/40 [==============================] - 0s 2ms/step - loss: 0.4601 - accuracy: 0.7870\n",
            "Epoch 81/150\n",
            "40/40 [==============================] - 0s 2ms/step - loss: 0.4565 - accuracy: 0.7808\n",
            "Epoch 82/150\n",
            "40/40 [==============================] - 0s 2ms/step - loss: 0.4682 - accuracy: 0.7879\n",
            "Epoch 83/150\n",
            "40/40 [==============================] - 0s 1ms/step - loss: 0.4653 - accuracy: 0.7863\n",
            "Epoch 84/150\n",
            "40/40 [==============================] - 0s 2ms/step - loss: 0.4219 - accuracy: 0.8148\n",
            "Epoch 85/150\n",
            "40/40 [==============================] - 0s 2ms/step - loss: 0.4479 - accuracy: 0.7966\n",
            "Epoch 86/150\n",
            "40/40 [==============================] - 0s 2ms/step - loss: 0.4450 - accuracy: 0.8104\n",
            "Epoch 87/150\n",
            "40/40 [==============================] - 0s 2ms/step - loss: 0.4782 - accuracy: 0.7882\n",
            "Epoch 88/150\n",
            "40/40 [==============================] - 0s 1ms/step - loss: 0.4424 - accuracy: 0.7973\n",
            "Epoch 89/150\n",
            "40/40 [==============================] - 0s 2ms/step - loss: 0.4289 - accuracy: 0.8078\n",
            "Epoch 90/150\n",
            "40/40 [==============================] - 0s 2ms/step - loss: 0.4248 - accuracy: 0.8025\n",
            "Epoch 91/150\n",
            "40/40 [==============================] - 0s 2ms/step - loss: 0.4461 - accuracy: 0.7916\n",
            "Epoch 92/150\n",
            "40/40 [==============================] - 0s 1ms/step - loss: 0.4713 - accuracy: 0.7760\n",
            "Epoch 93/150\n",
            "40/40 [==============================] - 0s 2ms/step - loss: 0.4149 - accuracy: 0.8167\n",
            "Epoch 94/150\n",
            "40/40 [==============================] - 0s 2ms/step - loss: 0.4545 - accuracy: 0.7955\n",
            "Epoch 95/150\n",
            "40/40 [==============================] - 0s 1ms/step - loss: 0.4270 - accuracy: 0.8048\n",
            "Epoch 96/150\n",
            "40/40 [==============================] - 0s 2ms/step - loss: 0.4355 - accuracy: 0.7873\n",
            "Epoch 97/150\n",
            "40/40 [==============================] - 0s 2ms/step - loss: 0.4525 - accuracy: 0.7796\n",
            "Epoch 98/150\n",
            "40/40 [==============================] - 0s 2ms/step - loss: 0.4429 - accuracy: 0.7987\n",
            "Epoch 99/150\n",
            "40/40 [==============================] - 0s 2ms/step - loss: 0.4486 - accuracy: 0.7868\n",
            "Epoch 100/150\n",
            "40/40 [==============================] - 0s 2ms/step - loss: 0.4466 - accuracy: 0.7836\n",
            "Epoch 101/150\n",
            "40/40 [==============================] - 0s 1ms/step - loss: 0.4288 - accuracy: 0.7996\n",
            "Epoch 102/150\n",
            "40/40 [==============================] - 0s 2ms/step - loss: 0.4306 - accuracy: 0.8066\n",
            "Epoch 103/150\n",
            "40/40 [==============================] - 0s 1ms/step - loss: 0.4258 - accuracy: 0.8067\n",
            "Epoch 104/150\n",
            "40/40 [==============================] - 0s 2ms/step - loss: 0.4345 - accuracy: 0.8031\n",
            "Epoch 105/150\n",
            "40/40 [==============================] - 0s 2ms/step - loss: 0.4351 - accuracy: 0.8005\n",
            "Epoch 106/150\n",
            "40/40 [==============================] - 0s 2ms/step - loss: 0.4395 - accuracy: 0.8083\n",
            "Epoch 107/150\n",
            "40/40 [==============================] - 0s 2ms/step - loss: 0.4346 - accuracy: 0.7910\n",
            "Epoch 108/150\n",
            "40/40 [==============================] - 0s 1ms/step - loss: 0.4251 - accuracy: 0.8017\n",
            "Epoch 109/150\n",
            "40/40 [==============================] - 0s 2ms/step - loss: 0.4578 - accuracy: 0.7955\n",
            "Epoch 110/150\n",
            "40/40 [==============================] - 0s 2ms/step - loss: 0.4402 - accuracy: 0.7963\n",
            "Epoch 111/150\n",
            "40/40 [==============================] - 0s 2ms/step - loss: 0.4361 - accuracy: 0.8079\n",
            "Epoch 112/150\n",
            "40/40 [==============================] - 0s 2ms/step - loss: 0.4348 - accuracy: 0.7997\n",
            "Epoch 113/150\n",
            "40/40 [==============================] - 0s 2ms/step - loss: 0.4508 - accuracy: 0.7948\n",
            "Epoch 114/150\n",
            "40/40 [==============================] - 0s 2ms/step - loss: 0.4284 - accuracy: 0.8048\n",
            "Epoch 115/150\n",
            "40/40 [==============================] - 0s 2ms/step - loss: 0.4284 - accuracy: 0.8012\n",
            "Epoch 116/150\n",
            "40/40 [==============================] - 0s 2ms/step - loss: 0.4187 - accuracy: 0.8154\n",
            "Epoch 117/150\n",
            "40/40 [==============================] - 0s 2ms/step - loss: 0.4298 - accuracy: 0.8014\n",
            "Epoch 118/150\n",
            "40/40 [==============================] - 0s 2ms/step - loss: 0.4298 - accuracy: 0.8073\n",
            "Epoch 119/150\n",
            "40/40 [==============================] - 0s 2ms/step - loss: 0.4429 - accuracy: 0.7929\n",
            "Epoch 120/150\n",
            "40/40 [==============================] - 0s 2ms/step - loss: 0.4404 - accuracy: 0.7930\n",
            "Epoch 121/150\n",
            "40/40 [==============================] - 0s 1ms/step - loss: 0.4193 - accuracy: 0.8157\n",
            "Epoch 122/150\n",
            "40/40 [==============================] - 0s 2ms/step - loss: 0.4378 - accuracy: 0.8023\n",
            "Epoch 123/150\n",
            "40/40 [==============================] - 0s 1ms/step - loss: 0.4276 - accuracy: 0.8024\n",
            "Epoch 124/150\n",
            "40/40 [==============================] - 0s 2ms/step - loss: 0.4356 - accuracy: 0.8062\n",
            "Epoch 125/150\n",
            "40/40 [==============================] - 0s 2ms/step - loss: 0.4684 - accuracy: 0.7790\n",
            "Epoch 126/150\n",
            "40/40 [==============================] - 0s 2ms/step - loss: 0.4279 - accuracy: 0.8031\n",
            "Epoch 127/150\n",
            "40/40 [==============================] - 0s 2ms/step - loss: 0.4553 - accuracy: 0.7829\n",
            "Epoch 128/150\n",
            "40/40 [==============================] - 0s 1ms/step - loss: 0.4342 - accuracy: 0.8050\n",
            "Epoch 129/150\n",
            "40/40 [==============================] - 0s 2ms/step - loss: 0.4409 - accuracy: 0.7955\n",
            "Epoch 130/150\n",
            "40/40 [==============================] - 0s 2ms/step - loss: 0.4260 - accuracy: 0.8151\n",
            "Epoch 131/150\n",
            "40/40 [==============================] - 0s 2ms/step - loss: 0.4379 - accuracy: 0.7919\n",
            "Epoch 132/150\n",
            "40/40 [==============================] - 0s 2ms/step - loss: 0.4186 - accuracy: 0.8165\n",
            "Epoch 133/150\n",
            "40/40 [==============================] - 0s 2ms/step - loss: 0.4206 - accuracy: 0.8028\n",
            "Epoch 134/150\n",
            "40/40 [==============================] - 0s 2ms/step - loss: 0.4198 - accuracy: 0.8062\n",
            "Epoch 135/150\n",
            "40/40 [==============================] - 0s 2ms/step - loss: 0.4344 - accuracy: 0.7975\n",
            "Epoch 136/150\n",
            "40/40 [==============================] - 0s 2ms/step - loss: 0.4382 - accuracy: 0.7930\n",
            "Epoch 137/150\n",
            "40/40 [==============================] - 0s 2ms/step - loss: 0.4266 - accuracy: 0.8093\n",
            "Epoch 138/150\n",
            "40/40 [==============================] - 0s 2ms/step - loss: 0.4507 - accuracy: 0.7942\n",
            "Epoch 139/150\n",
            "40/40 [==============================] - 0s 2ms/step - loss: 0.4357 - accuracy: 0.8036\n",
            "Epoch 140/150\n",
            "40/40 [==============================] - 0s 2ms/step - loss: 0.4200 - accuracy: 0.8144\n",
            "Epoch 141/150\n",
            "40/40 [==============================] - 0s 2ms/step - loss: 0.4377 - accuracy: 0.8033\n",
            "Epoch 142/150\n",
            "40/40 [==============================] - 0s 2ms/step - loss: 0.4231 - accuracy: 0.8034\n",
            "Epoch 143/150\n",
            "40/40 [==============================] - 0s 2ms/step - loss: 0.4184 - accuracy: 0.8109\n",
            "Epoch 144/150\n",
            "40/40 [==============================] - 0s 2ms/step - loss: 0.4234 - accuracy: 0.8129\n",
            "Epoch 145/150\n",
            "40/40 [==============================] - 0s 2ms/step - loss: 0.4086 - accuracy: 0.8190\n",
            "Epoch 146/150\n",
            "40/40 [==============================] - 0s 2ms/step - loss: 0.4177 - accuracy: 0.8070\n",
            "Epoch 147/150\n",
            "40/40 [==============================] - 0s 2ms/step - loss: 0.4223 - accuracy: 0.8170\n",
            "Epoch 148/150\n",
            "40/40 [==============================] - 0s 2ms/step - loss: 0.4355 - accuracy: 0.8043\n",
            "Epoch 149/150\n",
            "40/40 [==============================] - 0s 1ms/step - loss: 0.4278 - accuracy: 0.8167\n",
            "Epoch 150/150\n",
            "40/40 [==============================] - 0s 2ms/step - loss: 0.4102 - accuracy: 0.8240\n",
            "17/17 [==============================] - 0s 1ms/step - loss: 0.4981 - accuracy: 0.7587\n",
            "Accuracy: 75.87\n"
          ],
          "name": "stdout"
        }
      ]
    }
  ]
}